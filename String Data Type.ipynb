{
 "cells": [
  {
   "cell_type": "code",
   "execution_count": null,
   "id": "8e63bdbb",
   "metadata": {},
   "outputs": [],
   "source": [
    "String is a collection or group of characters enclosed between \n",
    "1. 'Hello'\n",
    "2. \"Hello\"\n",
    "3. '''Hello'''\n",
    "4.\"\"\"Hello\"\"\""
   ]
  },
  {
   "cell_type": "code",
   "execution_count": 1,
   "id": "14617974",
   "metadata": {},
   "outputs": [
    {
     "name": "stdout",
     "output_type": "stream",
     "text": [
      "<class 'str'>\n"
     ]
    }
   ],
   "source": [
    "s='Hello'\n",
    "print(type(s))"
   ]
  },
  {
   "cell_type": "code",
   "execution_count": 2,
   "id": "33e70b93",
   "metadata": {},
   "outputs": [
    {
     "name": "stdout",
     "output_type": "stream",
     "text": [
      "<class 'str'>\n"
     ]
    }
   ],
   "source": [
    "s=\"Hello\"\n",
    "print(type(s))"
   ]
  },
  {
   "cell_type": "code",
   "execution_count": 3,
   "id": "c43d3716",
   "metadata": {},
   "outputs": [
    {
     "name": "stdout",
     "output_type": "stream",
     "text": [
      "<class 'str'>\n"
     ]
    }
   ],
   "source": [
    "s='''Hello'''\n",
    "print(type(s))"
   ]
  },
  {
   "cell_type": "code",
   "execution_count": 4,
   "id": "184ca9d9",
   "metadata": {},
   "outputs": [
    {
     "name": "stdout",
     "output_type": "stream",
     "text": [
      "<class 'str'>\n"
     ]
    }
   ],
   "source": [
    "s=\"\"\"Hello\"\"\"\n",
    "print(type(s))"
   ]
  },
  {
   "cell_type": "code",
   "execution_count": 7,
   "id": "7aeb20fb",
   "metadata": {},
   "outputs": [
    {
     "ename": "SyntaxError",
     "evalue": "EOL while scanning string literal (<ipython-input-7-38cb04a1ab43>, line 1)",
     "output_type": "error",
     "traceback": [
      "\u001b[1;36m  File \u001b[1;32m\"<ipython-input-7-38cb04a1ab43>\"\u001b[1;36m, line \u001b[1;32m1\u001b[0m\n\u001b[1;33m    s1='Hello\u001b[0m\n\u001b[1;37m             ^\u001b[0m\n\u001b[1;31mSyntaxError\u001b[0m\u001b[1;31m:\u001b[0m EOL while scanning string literal\n"
     ]
    }
   ],
   "source": [
    "s1='Hello\n",
    "Good \n",
    "Morning\n",
    "'"
   ]
  },
  {
   "cell_type": "code",
   "execution_count": 9,
   "id": "18b53396",
   "metadata": {},
   "outputs": [
    {
     "name": "stdout",
     "output_type": "stream",
     "text": [
      "Hello\n",
      "Good \n",
      "Morning\n"
     ]
    }
   ],
   "source": [
    "s1='''Hello\n",
    "Good \n",
    "Morning'''\n",
    "print(s1)"
   ]
  },
  {
   "cell_type": "code",
   "execution_count": 10,
   "id": "a651d684",
   "metadata": {},
   "outputs": [
    {
     "name": "stdout",
     "output_type": "stream",
     "text": [
      "Hello\n",
      "Good \n",
      "Morning\n"
     ]
    }
   ],
   "source": [
    "s1=\"\"\"Hello\n",
    "Good \n",
    "Morning\"\"\"\n",
    "print(s1)"
   ]
  },
  {
   "cell_type": "code",
   "execution_count": 11,
   "id": "bd3b0439",
   "metadata": {},
   "outputs": [
    {
     "ename": "SyntaxError",
     "evalue": "EOF while scanning triple-quoted string literal (<ipython-input-11-45e4d9fcdc74>, line 4)",
     "output_type": "error",
     "traceback": [
      "\u001b[1;36m  File \u001b[1;32m\"<ipython-input-11-45e4d9fcdc74>\"\u001b[1;36m, line \u001b[1;32m4\u001b[0m\n\u001b[1;33m    print(s1)\u001b[0m\n\u001b[1;37m             \n^\u001b[0m\n\u001b[1;31mSyntaxError\u001b[0m\u001b[1;31m:\u001b[0m EOF while scanning triple-quoted string literal\n"
     ]
    }
   ],
   "source": [
    "s1=\"\"\"Hello\n",
    "Good \n",
    "Morning\n",
    "print(s1)"
   ]
  },
  {
   "cell_type": "code",
   "execution_count": 12,
   "id": "35ee057f",
   "metadata": {},
   "outputs": [
    {
     "name": "stdout",
     "output_type": "stream",
     "text": [
      "Hello \"Good\" Morning\n"
     ]
    }
   ],
   "source": [
    "s='Hello \"Good\" Morning'\n",
    "\n",
    "print(s)"
   ]
  },
  {
   "cell_type": "code",
   "execution_count": 13,
   "id": "529a5ad1",
   "metadata": {},
   "outputs": [
    {
     "ename": "SyntaxError",
     "evalue": "invalid syntax (<ipython-input-13-9c217e115352>, line 1)",
     "output_type": "error",
     "traceback": [
      "\u001b[1;36m  File \u001b[1;32m\"<ipython-input-13-9c217e115352>\"\u001b[1;36m, line \u001b[1;32m1\u001b[0m\n\u001b[1;33m    s='Hello 'Good' Morning'\u001b[0m\n\u001b[1;37m              ^\u001b[0m\n\u001b[1;31mSyntaxError\u001b[0m\u001b[1;31m:\u001b[0m invalid syntax\n"
     ]
    }
   ],
   "source": [
    "s='Hello 'Good' Morning'\n",
    "\n",
    "print(s)"
   ]
  },
  {
   "cell_type": "code",
   "execution_count": 14,
   "id": "7bc57914",
   "metadata": {},
   "outputs": [
    {
     "name": "stdout",
     "output_type": "stream",
     "text": [
      "Hello \"Good Morning\n"
     ]
    }
   ],
   "source": [
    "s='Hello \"Good Morning'\n",
    "\n",
    "print(s)"
   ]
  },
  {
   "cell_type": "code",
   "execution_count": 15,
   "id": "fd0b2596",
   "metadata": {},
   "outputs": [
    {
     "ename": "SyntaxError",
     "evalue": "invalid syntax (<ipython-input-15-bd2a39fa1a9f>, line 1)",
     "output_type": "error",
     "traceback": [
      "\u001b[1;36m  File \u001b[1;32m\"<ipython-input-15-bd2a39fa1a9f>\"\u001b[1;36m, line \u001b[1;32m1\u001b[0m\n\u001b[1;33m    s=\"Hello \"Good\" Morning\"\u001b[0m\n\u001b[1;37m              ^\u001b[0m\n\u001b[1;31mSyntaxError\u001b[0m\u001b[1;31m:\u001b[0m invalid syntax\n"
     ]
    }
   ],
   "source": [
    "s=\"Hello \"Good\" Morning\"\n",
    "\n",
    "print(s)"
   ]
  },
  {
   "cell_type": "code",
   "execution_count": 16,
   "id": "5388e7f4",
   "metadata": {},
   "outputs": [
    {
     "name": "stdout",
     "output_type": "stream",
     "text": [
      "Hello 'Good' Morning\n"
     ]
    }
   ],
   "source": [
    "s=\"Hello 'Good' Morning\"\n",
    "\n",
    "print(s)"
   ]
  },
  {
   "cell_type": "code",
   "execution_count": 17,
   "id": "5a27488a",
   "metadata": {},
   "outputs": [
    {
     "name": "stdout",
     "output_type": "stream",
     "text": [
      "Hello 'Good' Morning\n"
     ]
    }
   ],
   "source": [
    "s=\"Hello 'Good\\' Morning\"\n",
    "\n",
    "print(s)"
   ]
  },
  {
   "cell_type": "code",
   "execution_count": 18,
   "id": "85ae4b18",
   "metadata": {},
   "outputs": [
    {
     "name": "stdout",
     "output_type": "stream",
     "text": [
      "Hello 'Good\n",
      "' Morning\n"
     ]
    }
   ],
   "source": [
    "s=\"Hello 'Good\\n' Morning\"\n",
    "\n",
    "print(s)"
   ]
  },
  {
   "cell_type": "code",
   "execution_count": 19,
   "id": "d0057a84",
   "metadata": {},
   "outputs": [
    {
     "name": "stdout",
     "output_type": "stream",
     "text": [
      "Hello 'Good\b' Morning\n"
     ]
    }
   ],
   "source": [
    "s=\"Hello 'Good\\b' Morning\"\n",
    "\n",
    "print(s)"
   ]
  },
  {
   "cell_type": "code",
   "execution_count": 20,
   "id": "452ff276",
   "metadata": {},
   "outputs": [
    {
     "name": "stdout",
     "output_type": "stream",
     "text": [
      "' Morning\n"
     ]
    }
   ],
   "source": [
    "s=\"Hello 'Good\\r' Morning\"\n",
    "\n",
    "print(s)"
   ]
  },
  {
   "cell_type": "code",
   "execution_count": 21,
   "id": "4a136d58",
   "metadata": {},
   "outputs": [
    {
     "name": "stdout",
     "output_type": "stream",
     "text": [
      "Hello 'Good\f",
      "' Morning\n"
     ]
    }
   ],
   "source": [
    "s=\"Hello 'Good\\f' Morning\"\n",
    "\n",
    "print(s)"
   ]
  },
  {
   "cell_type": "code",
   "execution_count": 22,
   "id": "87b1fd71",
   "metadata": {},
   "outputs": [
    {
     "name": "stdout",
     "output_type": "stream",
     "text": [
      "Hello 'Good\t' Morning\n"
     ]
    }
   ],
   "source": [
    "s=\"Hello 'Good\\t' Morning\"\n",
    "\n",
    "print(s)"
   ]
  },
  {
   "cell_type": "code",
   "execution_count": 23,
   "id": "ec7feef1",
   "metadata": {},
   "outputs": [
    {
     "name": "stdout",
     "output_type": "stream",
     "text": [
      "Hello 'Good\u000b",
      "' Morning\n"
     ]
    }
   ],
   "source": [
    "s=\"Hello 'Good\\v' Morning\"\n",
    "\n",
    "print(s)"
   ]
  },
  {
   "cell_type": "code",
   "execution_count": 24,
   "id": "1ab51d71",
   "metadata": {},
   "outputs": [
    {
     "name": "stdout",
     "output_type": "stream",
     "text": [
      "Hello 'Good\u0000' Morning\n"
     ]
    }
   ],
   "source": [
    "s=\"Hello 'Good\\0' Morning\"\n",
    "\n",
    "print(s)"
   ]
  },
  {
   "cell_type": "code",
   "execution_count": 25,
   "id": "3b44253c",
   "metadata": {},
   "outputs": [
    {
     "name": "stdout",
     "output_type": "stream",
     "text": [
      "Hello 'Good' Morning\n"
     ]
    }
   ],
   "source": [
    "s=\"Hello \\'Good\\' Morning\"\n",
    "\n",
    "print(s)"
   ]
  },
  {
   "cell_type": "code",
   "execution_count": 26,
   "id": "a0a26120",
   "metadata": {},
   "outputs": [
    {
     "name": "stdout",
     "output_type": "stream",
     "text": [
      "Hello \\'Good\\' Morning\n"
     ]
    }
   ],
   "source": [
    "s=\"Hello \\\\'Good\\\\' Morning\"\n",
    "\n",
    "print(s)"
   ]
  },
  {
   "cell_type": "markdown",
   "id": "d152bf19",
   "metadata": {},
   "source": [
    "# How to access characters of string"
   ]
  },
  {
   "cell_type": "code",
   "execution_count": null,
   "id": "98f5135b",
   "metadata": {},
   "outputs": [],
   "source": [
    "1. By using Index\n",
    "2. By using Slicing\n"
   ]
  },
  {
   "cell_type": "markdown",
   "id": "1c05f299",
   "metadata": {},
   "source": [
    "# 1. By using Index"
   ]
  },
  {
   "cell_type": "code",
   "execution_count": null,
   "id": "c8b85a8b",
   "metadata": {},
   "outputs": [],
   "source": [
    "We can access characters of a string by using two indexing methods\n",
    "1. Positive Indexing ( 0---->n-1)\n",
    "2. Negative Indexing(-n <----- -1)"
   ]
  },
  {
   "cell_type": "code",
   "execution_count": 27,
   "id": "30b723ac",
   "metadata": {},
   "outputs": [
    {
     "name": "stdout",
     "output_type": "stream",
     "text": [
      "H\n"
     ]
    }
   ],
   "source": [
    "#example to access character with positive index\n",
    "s=\"Hello\"\n",
    "print(s[0])"
   ]
  },
  {
   "cell_type": "code",
   "execution_count": 29,
   "id": "6c0135c7",
   "metadata": {},
   "outputs": [
    {
     "name": "stdout",
     "output_type": "stream",
     "text": [
      "o\n"
     ]
    }
   ],
   "source": [
    "s=\"Hello\"\n",
    "print(s[4])"
   ]
  },
  {
   "cell_type": "code",
   "execution_count": 30,
   "id": "fb8f2511",
   "metadata": {},
   "outputs": [
    {
     "ename": "IndexError",
     "evalue": "string index out of range",
     "output_type": "error",
     "traceback": [
      "\u001b[1;31m---------------------------------------------------------------------------\u001b[0m",
      "\u001b[1;31mIndexError\u001b[0m                                Traceback (most recent call last)",
      "\u001b[1;32m<ipython-input-30-08f3f39399f9>\u001b[0m in \u001b[0;36m<module>\u001b[1;34m\u001b[0m\n\u001b[0;32m      1\u001b[0m \u001b[0ms\u001b[0m\u001b[1;33m=\u001b[0m\u001b[1;34m\"Hello\"\u001b[0m\u001b[1;33m\u001b[0m\u001b[1;33m\u001b[0m\u001b[0m\n\u001b[1;32m----> 2\u001b[1;33m \u001b[0mprint\u001b[0m\u001b[1;33m(\u001b[0m\u001b[0ms\u001b[0m\u001b[1;33m[\u001b[0m\u001b[1;36m40\u001b[0m\u001b[1;33m]\u001b[0m\u001b[1;33m)\u001b[0m\u001b[1;33m\u001b[0m\u001b[1;33m\u001b[0m\u001b[0m\n\u001b[0m",
      "\u001b[1;31mIndexError\u001b[0m: string index out of range"
     ]
    }
   ],
   "source": [
    "s=\"Hello\"\n",
    "print(s[40])"
   ]
  },
  {
   "cell_type": "code",
   "execution_count": 31,
   "id": "2e632bba",
   "metadata": {},
   "outputs": [
    {
     "name": "stdout",
     "output_type": "stream",
     "text": [
      "o\n"
     ]
    }
   ],
   "source": [
    "#Accessing the character of string by using negative indexing\n",
    "s=\"Hello\"\n",
    "print(s[-1])"
   ]
  },
  {
   "cell_type": "code",
   "execution_count": 32,
   "id": "40723506",
   "metadata": {},
   "outputs": [
    {
     "name": "stdout",
     "output_type": "stream",
     "text": [
      "H\n"
     ]
    }
   ],
   "source": [
    "s=\"Hello\"\n",
    "print(s[-5])"
   ]
  },
  {
   "cell_type": "code",
   "execution_count": 33,
   "id": "7c470c6f",
   "metadata": {},
   "outputs": [
    {
     "ename": "IndexError",
     "evalue": "string index out of range",
     "output_type": "error",
     "traceback": [
      "\u001b[1;31m---------------------------------------------------------------------------\u001b[0m",
      "\u001b[1;31mIndexError\u001b[0m                                Traceback (most recent call last)",
      "\u001b[1;32m<ipython-input-33-547f6008cb61>\u001b[0m in \u001b[0;36m<module>\u001b[1;34m\u001b[0m\n\u001b[0;32m      1\u001b[0m \u001b[0ms\u001b[0m\u001b[1;33m=\u001b[0m\u001b[1;34m\"Hello\"\u001b[0m\u001b[1;33m\u001b[0m\u001b[1;33m\u001b[0m\u001b[0m\n\u001b[1;32m----> 2\u001b[1;33m \u001b[0mprint\u001b[0m\u001b[1;33m(\u001b[0m\u001b[0ms\u001b[0m\u001b[1;33m[\u001b[0m\u001b[1;33m-\u001b[0m\u001b[1;36m50\u001b[0m\u001b[1;33m]\u001b[0m\u001b[1;33m)\u001b[0m\u001b[1;33m\u001b[0m\u001b[1;33m\u001b[0m\u001b[0m\n\u001b[0m",
      "\u001b[1;31mIndexError\u001b[0m: string index out of range"
     ]
    }
   ],
   "source": [
    "s=\"Hello\"\n",
    "print(s[-50])"
   ]
  },
  {
   "cell_type": "code",
   "execution_count": 34,
   "id": "c25b7c0f",
   "metadata": {},
   "outputs": [
    {
     "name": "stdout",
     "output_type": "stream",
     "text": [
      "H\n",
      "e\n",
      "l\n",
      "l\n",
      "o\n"
     ]
    }
   ],
   "source": [
    "#accessing of characters of given string using loops\n",
    "s=\"Hello\"\n",
    "for i in s:\n",
    "    print(i)"
   ]
  },
  {
   "cell_type": "code",
   "execution_count": 35,
   "id": "61d1438b",
   "metadata": {},
   "outputs": [
    {
     "name": "stdout",
     "output_type": "stream",
     "text": [
      "H\n",
      "e\n",
      "l\n",
      "l\n",
      "o\n"
     ]
    }
   ],
   "source": [
    "#accessing of characters of given string using loops\n",
    "s=\"Hello\"\n",
    "for i in range(5):\n",
    "    print(s[i])"
   ]
  },
  {
   "cell_type": "markdown",
   "id": "eef76d23",
   "metadata": {},
   "source": [
    "# 2. By using Slicing "
   ]
  },
  {
   "cell_type": "code",
   "execution_count": 36,
   "id": "e3318cac",
   "metadata": {},
   "outputs": [
    {
     "name": "stdout",
     "output_type": "stream",
     "text": [
      "ood\n"
     ]
    }
   ],
   "source": [
    "s=\"Hello Good Morning\"\n",
    "print(s[7:10])"
   ]
  },
  {
   "cell_type": "code",
   "execution_count": 37,
   "id": "a1a86d52",
   "metadata": {},
   "outputs": [
    {
     "name": "stdout",
     "output_type": "stream",
     "text": [
      "Hell\n"
     ]
    }
   ],
   "source": [
    "print(s[0:4])"
   ]
  },
  {
   "cell_type": "code",
   "execution_count": 38,
   "id": "71e68eac",
   "metadata": {},
   "outputs": [
    {
     "name": "stdout",
     "output_type": "stream",
     "text": [
      "Hell\n"
     ]
    }
   ],
   "source": [
    "print(s[:4])"
   ]
  },
  {
   "cell_type": "code",
   "execution_count": 39,
   "id": "91754e16",
   "metadata": {},
   "outputs": [
    {
     "name": "stdout",
     "output_type": "stream",
     "text": [
      "ood Morning\n"
     ]
    }
   ],
   "source": [
    "print(s[7:])"
   ]
  },
  {
   "cell_type": "code",
   "execution_count": 40,
   "id": "af076e72",
   "metadata": {},
   "outputs": [
    {
     "name": "stdout",
     "output_type": "stream",
     "text": [
      "Hello Good Morning\n"
     ]
    }
   ],
   "source": [
    "print(s[:])"
   ]
  },
  {
   "cell_type": "code",
   "execution_count": 41,
   "id": "82b70880",
   "metadata": {},
   "outputs": [
    {
     "ename": "SyntaxError",
     "evalue": "invalid syntax (<ipython-input-41-bc122fd5d983>, line 1)",
     "output_type": "error",
     "traceback": [
      "\u001b[1;36m  File \u001b[1;32m\"<ipython-input-41-bc122fd5d983>\"\u001b[1;36m, line \u001b[1;32m1\u001b[0m\n\u001b[1;33m    print(s[])\u001b[0m\n\u001b[1;37m            ^\u001b[0m\n\u001b[1;31mSyntaxError\u001b[0m\u001b[1;31m:\u001b[0m invalid syntax\n"
     ]
    }
   ],
   "source": [
    "print(s[])"
   ]
  },
  {
   "cell_type": "code",
   "execution_count": 42,
   "id": "c3716437",
   "metadata": {},
   "outputs": [
    {
     "name": "stdout",
     "output_type": "stream",
     "text": [
      "Hello Good Morning\n"
     ]
    }
   ],
   "source": [
    "print(s)"
   ]
  },
  {
   "cell_type": "code",
   "execution_count": 43,
   "id": "27a083e0",
   "metadata": {},
   "outputs": [
    {
     "name": "stdout",
     "output_type": "stream",
     "text": [
      "HloGo onn\n"
     ]
    }
   ],
   "source": [
    "print(s[0:18:2])"
   ]
  },
  {
   "cell_type": "code",
   "execution_count": 44,
   "id": "94c327fd",
   "metadata": {},
   "outputs": [
    {
     "ename": "ValueError",
     "evalue": "slice step cannot be zero",
     "output_type": "error",
     "traceback": [
      "\u001b[1;31m---------------------------------------------------------------------------\u001b[0m",
      "\u001b[1;31mValueError\u001b[0m                                Traceback (most recent call last)",
      "\u001b[1;32m<ipython-input-44-dc3d84df5085>\u001b[0m in \u001b[0;36m<module>\u001b[1;34m\u001b[0m\n\u001b[1;32m----> 1\u001b[1;33m \u001b[0mprint\u001b[0m\u001b[1;33m(\u001b[0m\u001b[0ms\u001b[0m\u001b[1;33m[\u001b[0m\u001b[1;36m0\u001b[0m\u001b[1;33m:\u001b[0m\u001b[1;36m18\u001b[0m\u001b[1;33m:\u001b[0m\u001b[1;36m0\u001b[0m\u001b[1;33m]\u001b[0m\u001b[1;33m)\u001b[0m\u001b[1;33m\u001b[0m\u001b[1;33m\u001b[0m\u001b[0m\n\u001b[0m",
      "\u001b[1;31mValueError\u001b[0m: slice step cannot be zero"
     ]
    }
   ],
   "source": [
    "print(s[0:18:0])"
   ]
  },
  {
   "cell_type": "code",
   "execution_count": 46,
   "id": "319610ac",
   "metadata": {},
   "outputs": [
    {
     "name": "stdout",
     "output_type": "stream",
     "text": [
      "\n"
     ]
    }
   ],
   "source": [
    "print(s[0:18:-1])"
   ]
  },
  {
   "cell_type": "code",
   "execution_count": 47,
   "id": "1ec6cbc0",
   "metadata": {},
   "outputs": [
    {
     "name": "stdout",
     "output_type": "stream",
     "text": [
      "gninroM dooG olleH\n"
     ]
    }
   ],
   "source": [
    "print(s[::-1])"
   ]
  },
  {
   "cell_type": "markdown",
   "id": "db87de92",
   "metadata": {},
   "source": [
    "# Mathematical Operations on Strings"
   ]
  },
  {
   "cell_type": "code",
   "execution_count": null,
   "id": "c1e06880",
   "metadata": {},
   "outputs": [],
   "source": [
    "+ ----> used for concatination of two strings \n",
    "* ----> used for repetition operator\n"
   ]
  },
  {
   "cell_type": "code",
   "execution_count": 49,
   "id": "6361ea5f",
   "metadata": {},
   "outputs": [
    {
     "name": "stdout",
     "output_type": "stream",
     "text": [
      "Hello Good Morning\n"
     ]
    }
   ],
   "source": [
    "s1=\"Hello\"\n",
    "s2=\" Good\"\n",
    "s3=\" Morning\"\n",
    "print(s1+s2+s3)"
   ]
  },
  {
   "cell_type": "code",
   "execution_count": 50,
   "id": "901873a3",
   "metadata": {},
   "outputs": [
    {
     "ename": "TypeError",
     "evalue": "can only concatenate str (not \"int\") to str",
     "output_type": "error",
     "traceback": [
      "\u001b[1;31m---------------------------------------------------------------------------\u001b[0m",
      "\u001b[1;31mTypeError\u001b[0m                                 Traceback (most recent call last)",
      "\u001b[1;32m<ipython-input-50-5641c045a673>\u001b[0m in \u001b[0;36m<module>\u001b[1;34m\u001b[0m\n\u001b[1;32m----> 1\u001b[1;33m \u001b[0ms1\u001b[0m\u001b[1;33m+\u001b[0m\u001b[1;36m10\u001b[0m\u001b[1;33m\u001b[0m\u001b[1;33m\u001b[0m\u001b[0m\n\u001b[0m",
      "\u001b[1;31mTypeError\u001b[0m: can only concatenate str (not \"int\") to str"
     ]
    }
   ],
   "source": [
    "s1+10"
   ]
  },
  {
   "cell_type": "code",
   "execution_count": 51,
   "id": "dfde8597",
   "metadata": {},
   "outputs": [
    {
     "ename": "TypeError",
     "evalue": "can't multiply sequence by non-int of type 'str'",
     "output_type": "error",
     "traceback": [
      "\u001b[1;31m---------------------------------------------------------------------------\u001b[0m",
      "\u001b[1;31mTypeError\u001b[0m                                 Traceback (most recent call last)",
      "\u001b[1;32m<ipython-input-51-d53a7f1503a6>\u001b[0m in \u001b[0;36m<module>\u001b[1;34m\u001b[0m\n\u001b[1;32m----> 1\u001b[1;33m \u001b[0ms1\u001b[0m\u001b[1;33m*\u001b[0m\u001b[0ms2\u001b[0m\u001b[1;33m\u001b[0m\u001b[1;33m\u001b[0m\u001b[0m\n\u001b[0m",
      "\u001b[1;31mTypeError\u001b[0m: can't multiply sequence by non-int of type 'str'"
     ]
    }
   ],
   "source": [
    "s1*s2"
   ]
  },
  {
   "cell_type": "code",
   "execution_count": 52,
   "id": "0940e8d8",
   "metadata": {},
   "outputs": [
    {
     "data": {
      "text/plain": [
       "'HelloHelloHello'"
      ]
     },
     "execution_count": 52,
     "metadata": {},
     "output_type": "execute_result"
    }
   ],
   "source": [
    "s1*3"
   ]
  },
  {
   "cell_type": "code",
   "execution_count": 53,
   "id": "58963dab",
   "metadata": {},
   "outputs": [
    {
     "ename": "TypeError",
     "evalue": "can't multiply sequence by non-int of type 'float'",
     "output_type": "error",
     "traceback": [
      "\u001b[1;31m---------------------------------------------------------------------------\u001b[0m",
      "\u001b[1;31mTypeError\u001b[0m                                 Traceback (most recent call last)",
      "\u001b[1;32m<ipython-input-53-a1efba4bdcf8>\u001b[0m in \u001b[0;36m<module>\u001b[1;34m\u001b[0m\n\u001b[1;32m----> 1\u001b[1;33m \u001b[0ms1\u001b[0m\u001b[1;33m*\u001b[0m\u001b[1;36m3.5\u001b[0m\u001b[1;33m\u001b[0m\u001b[1;33m\u001b[0m\u001b[0m\n\u001b[0m",
      "\u001b[1;31mTypeError\u001b[0m: can't multiply sequence by non-int of type 'float'"
     ]
    }
   ],
   "source": [
    "s1*3.5"
   ]
  },
  {
   "cell_type": "code",
   "execution_count": 54,
   "id": "2b32d6c1",
   "metadata": {},
   "outputs": [
    {
     "data": {
      "text/plain": [
       "''"
      ]
     },
     "execution_count": 54,
     "metadata": {},
     "output_type": "execute_result"
    }
   ],
   "source": [
    "s1*0"
   ]
  },
  {
   "cell_type": "code",
   "execution_count": 55,
   "id": "2b01d328",
   "metadata": {},
   "outputs": [
    {
     "data": {
      "text/plain": [
       "''"
      ]
     },
     "execution_count": 55,
     "metadata": {},
     "output_type": "execute_result"
    }
   ],
   "source": [
    "s1*-1\n"
   ]
  }
 ],
 "metadata": {
  "kernelspec": {
   "display_name": "Python 3",
   "language": "python",
   "name": "python3"
  },
  "language_info": {
   "codemirror_mode": {
    "name": "ipython",
    "version": 3
   },
   "file_extension": ".py",
   "mimetype": "text/x-python",
   "name": "python",
   "nbconvert_exporter": "python",
   "pygments_lexer": "ipython3",
   "version": "3.8.8"
  }
 },
 "nbformat": 4,
 "nbformat_minor": 5
}
