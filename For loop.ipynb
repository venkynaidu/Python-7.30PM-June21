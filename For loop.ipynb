{
 "cells": [
  {
   "cell_type": "code",
   "execution_count": 1,
   "id": "5a2c5cfc",
   "metadata": {},
   "outputs": [
    {
     "name": "stdout",
     "output_type": "stream",
     "text": [
      "Venky\n",
      "Venky\n",
      "Venky\n",
      "Venky\n",
      "Venky\n",
      "Venky\n",
      "Venky\n",
      "Venky\n",
      "Venky\n",
      "Venky\n"
     ]
    }
   ],
   "source": [
    "#example program for for loop\n",
    "for i in range(10):\n",
    "    print(\"Venky\")"
   ]
  },
  {
   "cell_type": "code",
   "execution_count": 5,
   "id": "938dd362",
   "metadata": {},
   "outputs": [
    {
     "name": "stdout",
     "output_type": "stream",
     "text": [
      "1\n",
      "2\n",
      "3\n",
      "4\n",
      "5\n",
      "6\n",
      "7\n",
      "8\n",
      "9\n"
     ]
    }
   ],
   "source": [
    "#Program to print numbers from 1 to 10\n",
    "for i in range(1,10):\n",
    "    print(i)"
   ]
  },
  {
   "cell_type": "code",
   "execution_count": 6,
   "id": "72105381",
   "metadata": {},
   "outputs": [
    {
     "name": "stdout",
     "output_type": "stream",
     "text": [
      "1\n",
      "2\n",
      "3\n",
      "4\n",
      "5\n",
      "6\n",
      "7\n",
      "8\n",
      "9\n",
      "10\n"
     ]
    }
   ],
   "source": [
    "#Program to print numbers from 1 to 10\n",
    "for i in range(1,11):\n",
    "    print(i)"
   ]
  },
  {
   "cell_type": "code",
   "execution_count": 7,
   "id": "2a27a222",
   "metadata": {},
   "outputs": [
    {
     "name": "stdout",
     "output_type": "stream",
     "text": [
      "1\n",
      "3\n",
      "5\n",
      "7\n",
      "9\n",
      "11\n",
      "13\n",
      "15\n",
      "17\n",
      "19\n"
     ]
    }
   ],
   "source": [
    "#Program to print alternative numbers from 1 to 20\n",
    "for i in range(1,21,2):\n",
    "    print(i)"
   ]
  },
  {
   "cell_type": "code",
   "execution_count": 8,
   "id": "3a49ceab",
   "metadata": {},
   "outputs": [
    {
     "ename": "ValueError",
     "evalue": "range() arg 3 must not be zero",
     "output_type": "error",
     "traceback": [
      "\u001b[1;31m---------------------------------------------------------------------------\u001b[0m",
      "\u001b[1;31mValueError\u001b[0m                                Traceback (most recent call last)",
      "\u001b[1;32m<ipython-input-8-81679a6c157b>\u001b[0m in \u001b[0;36m<module>\u001b[1;34m\u001b[0m\n\u001b[0;32m      1\u001b[0m \u001b[1;31m#Program to print alternative numbers from 1 to 20\u001b[0m\u001b[1;33m\u001b[0m\u001b[1;33m\u001b[0m\u001b[1;33m\u001b[0m\u001b[0m\n\u001b[1;32m----> 2\u001b[1;33m \u001b[1;32mfor\u001b[0m \u001b[0mi\u001b[0m \u001b[1;32min\u001b[0m \u001b[0mrange\u001b[0m\u001b[1;33m(\u001b[0m\u001b[1;36m1\u001b[0m\u001b[1;33m,\u001b[0m\u001b[1;36m21\u001b[0m\u001b[1;33m,\u001b[0m\u001b[1;36m0\u001b[0m\u001b[1;33m)\u001b[0m\u001b[1;33m:\u001b[0m\u001b[1;33m\u001b[0m\u001b[1;33m\u001b[0m\u001b[0m\n\u001b[0m\u001b[0;32m      3\u001b[0m     \u001b[0mprint\u001b[0m\u001b[1;33m(\u001b[0m\u001b[0mi\u001b[0m\u001b[1;33m)\u001b[0m\u001b[1;33m\u001b[0m\u001b[1;33m\u001b[0m\u001b[0m\n",
      "\u001b[1;31mValueError\u001b[0m: range() arg 3 must not be zero"
     ]
    }
   ],
   "source": [
    "#Program to print alternative numbers from 1 to 20\n",
    "for i in range(1,21,0):\n",
    "    print(i)"
   ]
  },
  {
   "cell_type": "code",
   "execution_count": 9,
   "id": "aa46fd47",
   "metadata": {},
   "outputs": [
    {
     "name": "stdout",
     "output_type": "stream",
     "text": [
      "1\n",
      "2\n",
      "3\n",
      "4\n",
      "5\n",
      "6\n",
      "7\n",
      "8\n",
      "9\n",
      "10\n",
      "11\n",
      "12\n",
      "13\n",
      "14\n",
      "15\n",
      "16\n",
      "17\n",
      "18\n",
      "19\n",
      "20\n"
     ]
    }
   ],
   "source": [
    "#Program to print alternative numbers from 1 to 20\n",
    "for i in range(1,21,1):\n",
    "    print(i)"
   ]
  },
  {
   "cell_type": "code",
   "execution_count": 11,
   "id": "e081b5f4",
   "metadata": {},
   "outputs": [],
   "source": [
    "#Program to print alternative numbers from 1 to 20\n",
    "for i in range(1,21,-1):\n",
    "    print(i)"
   ]
  },
  {
   "cell_type": "code",
   "execution_count": 14,
   "id": "aff6a319",
   "metadata": {},
   "outputs": [
    {
     "name": "stdout",
     "output_type": "stream",
     "text": [
      "1\n",
      "22\n"
     ]
    }
   ],
   "source": [
    "#Program to print alternative numbers from 1 to 20\n",
    "for i in range(1,23,21):\n",
    "    print(i)"
   ]
  },
  {
   "cell_type": "code",
   "execution_count": 15,
   "id": "53fbb543",
   "metadata": {},
   "outputs": [
    {
     "name": "stdout",
     "output_type": "stream",
     "text": [
      "H\n",
      "e\n",
      "l\n",
      "l\n",
      "o\n"
     ]
    }
   ],
   "source": [
    "#for loop with string sequence\n",
    "s=\"Hello\"\n",
    "for i in s:\n",
    "    print(i)"
   ]
  },
  {
   "cell_type": "code",
   "execution_count": 16,
   "id": "516d655c",
   "metadata": {},
   "outputs": [
    {
     "name": "stdout",
     "output_type": "stream",
     "text": [
      "10\n",
      "20\n",
      "30\n",
      "40\n",
      "50\n"
     ]
    }
   ],
   "source": [
    "#for with list sequence\n",
    "l=[10,20,30,40,50]\n",
    "for x in l:\n",
    "    print(x)"
   ]
  },
  {
   "cell_type": "code",
   "execution_count": 17,
   "id": "57c93cf8",
   "metadata": {},
   "outputs": [
    {
     "name": "stdout",
     "output_type": "stream",
     "text": [
      "10\n",
      "20\n",
      "30\n",
      "40\n",
      "50\n"
     ]
    }
   ],
   "source": [
    "#for with list sequence\n",
    "l=[10,20,30,40,50]\n",
    "for venky in l:\n",
    "    print(venky)"
   ]
  },
  {
   "cell_type": "code",
   "execution_count": 18,
   "id": "74f21afb",
   "metadata": {},
   "outputs": [
    {
     "name": "stdout",
     "output_type": "stream",
     "text": [
      "H\n",
      "e\n",
      "l\n",
      "l\n",
      "o\n"
     ]
    }
   ],
   "source": [
    "x=\"Hello\"\n",
    "for i in x:\n",
    "    print(i)"
   ]
  },
  {
   "cell_type": "code",
   "execution_count": 19,
   "id": "7960c59e",
   "metadata": {},
   "outputs": [
    {
     "name": "stdout",
     "output_type": "stream",
     "text": [
      "2\n",
      "4\n",
      "6\n",
      "8\n",
      "10\n",
      "12\n",
      "14\n",
      "16\n",
      "18\n",
      "20\n"
     ]
    }
   ],
   "source": [
    "#program to print even numbers between 1 to 20\n",
    "for i in range(1,21):\n",
    "    if i%2==0:\n",
    "        print(i)"
   ]
  },
  {
   "cell_type": "code",
   "execution_count": 20,
   "id": "38bf3db5",
   "metadata": {},
   "outputs": [
    {
     "name": "stdout",
     "output_type": "stream",
     "text": [
      "1\n",
      "3\n",
      "5\n",
      "7\n",
      "9\n",
      "11\n",
      "13\n",
      "15\n",
      "17\n",
      "19\n"
     ]
    }
   ],
   "source": [
    "#program to print odd numbers between 1 to 20\n",
    "for i in range(1,21):\n",
    "    if i%2!=0:\n",
    "        print(i)"
   ]
  },
  {
   "cell_type": "code",
   "execution_count": 21,
   "id": "3d20f479",
   "metadata": {},
   "outputs": [
    {
     "name": "stdout",
     "output_type": "stream",
     "text": [
      "1\n",
      "3\n",
      "5\n",
      "7\n",
      "9\n",
      "11\n",
      "13\n",
      "15\n",
      "17\n",
      "19\n"
     ]
    }
   ],
   "source": [
    "#program to print odd numbers between 1 to 20\n",
    "for i in range(1,21,2):\n",
    "    print(i)\n",
    "   "
   ]
  },
  {
   "cell_type": "code",
   "execution_count": 22,
   "id": "f22f6520",
   "metadata": {},
   "outputs": [
    {
     "name": "stdout",
     "output_type": "stream",
     "text": [
      "2\n",
      "4\n",
      "6\n",
      "8\n",
      "10\n",
      "12\n",
      "14\n",
      "16\n",
      "18\n",
      "20\n"
     ]
    }
   ],
   "source": [
    "#program to print even numbers between 1 to 20\n",
    "for i in range(2,21,2):\n",
    "    print(i)\n",
    "    \n",
    "    "
   ]
  },
  {
   "cell_type": "code",
   "execution_count": 23,
   "id": "0d8bf94d",
   "metadata": {},
   "outputs": [
    {
     "name": "stdout",
     "output_type": "stream",
     "text": [
      "Number of even numbers : 13\n"
     ]
    }
   ],
   "source": [
    "#number of even numbers in the given range\n",
    "count=0\n",
    "for i in range(4,29):\n",
    "    if i%2==0:\n",
    "        count=count+1\n",
    "print(\"Number of even numbers :\",count)\n",
    "    "
   ]
  },
  {
   "cell_type": "code",
   "execution_count": 24,
   "id": "0381d28b",
   "metadata": {},
   "outputs": [
    {
     "name": "stdout",
     "output_type": "stream",
     "text": [
      "Number of even numbers : 1\n",
      "Number of even numbers : 1\n",
      "Number of even numbers : 2\n",
      "Number of even numbers : 2\n",
      "Number of even numbers : 3\n",
      "Number of even numbers : 3\n",
      "Number of even numbers : 4\n",
      "Number of even numbers : 4\n",
      "Number of even numbers : 5\n",
      "Number of even numbers : 5\n",
      "Number of even numbers : 6\n",
      "Number of even numbers : 6\n",
      "Number of even numbers : 7\n",
      "Number of even numbers : 7\n",
      "Number of even numbers : 8\n",
      "Number of even numbers : 8\n",
      "Number of even numbers : 9\n",
      "Number of even numbers : 9\n",
      "Number of even numbers : 10\n",
      "Number of even numbers : 10\n",
      "Number of even numbers : 11\n",
      "Number of even numbers : 11\n",
      "Number of even numbers : 12\n",
      "Number of even numbers : 12\n",
      "Number of even numbers : 13\n"
     ]
    }
   ],
   "source": [
    "#number of even numbers in the given range\n",
    "count=0\n",
    "for i in range(4,29):\n",
    "    if i%2==0:\n",
    "        count=count+1\n",
    "    print(\"Number of even numbers :\",count)\n",
    "    "
   ]
  },
  {
   "cell_type": "code",
   "execution_count": 25,
   "id": "039b5629",
   "metadata": {},
   "outputs": [
    {
     "name": "stdout",
     "output_type": "stream",
     "text": [
      "Number of odd numbers : 12\n"
     ]
    }
   ],
   "source": [
    "#number of odd numbers in the given range\n",
    "count=0\n",
    "for i in range(4,29):\n",
    "    if i%2!=0:\n",
    "        count=count+1\n",
    "print(\"Number of odd numbers :\",count)"
   ]
  },
  {
   "cell_type": "code",
   "execution_count": 26,
   "id": "3fae45f2",
   "metadata": {},
   "outputs": [
    {
     "name": "stdout",
     "output_type": "stream",
     "text": [
      "e\n",
      "o\n"
     ]
    }
   ],
   "source": [
    "#program to print vowels in given string\n",
    "s=\"Hello\"\n",
    "for i in s:\n",
    "    if i=='a' or i=='e' or i=='i' or i=='o' or i=='u':\n",
    "        print(i)"
   ]
  },
  {
   "cell_type": "code",
   "execution_count": 27,
   "id": "cf50fb5c",
   "metadata": {},
   "outputs": [
    {
     "name": "stdout",
     "output_type": "stream",
     "text": [
      "e\n",
      "o\n",
      "o\n",
      "o\n",
      "e\n",
      "e\n",
      "i\n"
     ]
    }
   ],
   "source": [
    "#program to print vowels in given string\n",
    "s=\"Hello Good evening\"\n",
    "for i in s:\n",
    "    if i=='a' or i=='e' or i=='i' or i=='o' or i=='u':\n",
    "        print(i)"
   ]
  },
  {
   "cell_type": "code",
   "execution_count": 29,
   "id": "eeed7956",
   "metadata": {},
   "outputs": [
    {
     "name": "stdout",
     "output_type": "stream",
     "text": [
      "Number of vowels: 12\n"
     ]
    }
   ],
   "source": [
    "#program to print number of vowels in given string\n",
    "s=\"Hello Good evening How are you?\"\n",
    "count=0\n",
    "for i in s:\n",
    "    if i=='a' or i=='e' or i=='i' or i=='o' or i=='u':\n",
    "        count=count+1\n",
    "print(\"Number of vowels:\",count)"
   ]
  },
  {
   "cell_type": "code",
   "execution_count": null,
   "id": "3d317c14",
   "metadata": {},
   "outputs": [],
   "source": [
    "Task: \n",
    "    1. Write a program to print number of Uppercase characters in given string?\n",
    "    2. Program to print number of uppercase Vowels in given string?\n",
    "    "
   ]
  },
  {
   "cell_type": "code",
   "execution_count": 2,
   "id": "a2bd51f4",
   "metadata": {},
   "outputs": [
    {
     "name": "stdout",
     "output_type": "stream",
     "text": [
      "Number of uppercase vowels: 3\n"
     ]
    }
   ],
   "source": [
    "#program to print number of uppercase vowels in given string\n",
    "s=\"HEllO Good Evening How are you?\"\n",
    "count=0\n",
    "for i in s:\n",
    "    if i=='A' or i=='E' or i=='I' or i=='O' or i=='U':\n",
    "        count=count+1\n",
    "print(\"Number of uppercase vowels:\",count)"
   ]
  },
  {
   "cell_type": "code",
   "execution_count": 3,
   "id": "4243af0d",
   "metadata": {},
   "outputs": [
    {
     "name": "stdout",
     "output_type": "stream",
     "text": [
      "Number of uppercase: 6\n"
     ]
    }
   ],
   "source": [
    "#program to print number of uppercase characters in given string\n",
    "s=\"HEllO Good Evening How are you?\"\n",
    "count=0\n",
    "for i in s:\n",
    "    if i>='A' and i<='Z':\n",
    "        count=count+1\n",
    "print(\"Number of uppercase:\",count)"
   ]
  },
  {
   "cell_type": "code",
   "execution_count": 4,
   "id": "37192d60",
   "metadata": {},
   "outputs": [
    {
     "name": "stdout",
     "output_type": "stream",
     "text": [
      "Number of lowercase: 19\n"
     ]
    }
   ],
   "source": [
    "#program to print number of lowercase characters in given string\n",
    "s=\"HEllO Good Evening How are you?\"\n",
    "count=0\n",
    "for i in s:\n",
    "    if i>='a' and i<='z':\n",
    "        count=count+1\n",
    "print(\"Number of lowercase:\",count)"
   ]
  },
  {
   "cell_type": "markdown",
   "id": "8e9d65de",
   "metadata": {},
   "source": [
    "# Nested For loop"
   ]
  },
  {
   "cell_type": "code",
   "execution_count": 5,
   "id": "5c51459a",
   "metadata": {},
   "outputs": [
    {
     "name": "stdout",
     "output_type": "stream",
     "text": [
      "*\n",
      "*\n",
      "*\n",
      "*\n",
      "*\n",
      "*\n",
      "*\n",
      "*\n",
      "*\n"
     ]
    }
   ],
   "source": [
    "#program to print 3x3 star matrix\n",
    "for i in range(3):\n",
    "    for j in range(3):\n",
    "        print(\"*\")"
   ]
  },
  {
   "cell_type": "code",
   "execution_count": 6,
   "id": "2253b18a",
   "metadata": {},
   "outputs": [
    {
     "name": "stdout",
     "output_type": "stream",
     "text": [
      "*********"
     ]
    }
   ],
   "source": [
    "#program to print 3x3 star matrix\n",
    "for i in range(3):\n",
    "    for j in range(3):\n",
    "        print(\"*\",end='')\n",
    "    "
   ]
  },
  {
   "cell_type": "code",
   "execution_count": 8,
   "id": "14dc6fba",
   "metadata": {},
   "outputs": [
    {
     "name": "stdout",
     "output_type": "stream",
     "text": [
      "* * * \n",
      "* * * \n",
      "* * * \n"
     ]
    }
   ],
   "source": [
    "#program to print 3x3 star matrix\n",
    "for i in range(3):\n",
    "    for j in range(3):\n",
    "        print(\"*\",end=' ')\n",
    "    print()"
   ]
  },
  {
   "cell_type": "code",
   "execution_count": 9,
   "id": "ccb729eb",
   "metadata": {},
   "outputs": [
    {
     "name": "stdout",
     "output_type": "stream",
     "text": [
      "0 1 2 \n",
      "0 1 2 \n",
      "0 1 2 \n"
     ]
    }
   ],
   "source": [
    "#program to print 3x3 star matrix\n",
    "for i in range(3):\n",
    "    for j in range(3):\n",
    "        print(j,end=' ')\n",
    "    print()"
   ]
  },
  {
   "cell_type": "code",
   "execution_count": 10,
   "id": "3322f557",
   "metadata": {},
   "outputs": [
    {
     "name": "stdout",
     "output_type": "stream",
     "text": [
      "1 2 3 \n",
      "1 2 3 \n",
      "1 2 3 \n"
     ]
    }
   ],
   "source": [
    "#program to print 3x3 star matrix\n",
    "for i in range(3):\n",
    "    for j in range(1,4):\n",
    "        print(j,end=' ')\n",
    "    print()"
   ]
  },
  {
   "cell_type": "code",
   "execution_count": 11,
   "id": "a394c8eb",
   "metadata": {},
   "outputs": [
    {
     "name": "stdout",
     "output_type": "stream",
     "text": [
      "0 0 0 \n",
      "1 1 1 \n",
      "2 2 2 \n"
     ]
    }
   ],
   "source": [
    "#program to print 3x3 star matrix\n",
    "for i in range(3):\n",
    "    for j in range(1,4):\n",
    "        print(i,end=' ')\n",
    "    print()"
   ]
  },
  {
   "cell_type": "code",
   "execution_count": 12,
   "id": "8c434592",
   "metadata": {},
   "outputs": [
    {
     "name": "stdout",
     "output_type": "stream",
     "text": [
      "1 1 1 \n",
      "2 2 2 \n",
      "3 3 3 \n"
     ]
    }
   ],
   "source": [
    "#program to print 3x3 star matrix\n",
    "for i in range(1,4):\n",
    "    for j in range(1,4):\n",
    "        print(i,end=' ')\n",
    "    print()"
   ]
  },
  {
   "cell_type": "code",
   "execution_count": 13,
   "id": "bf0a1b9e",
   "metadata": {},
   "outputs": [
    {
     "name": "stdout",
     "output_type": "stream",
     "text": [
      "Enter m,n values4 3\n",
      "0 0 0 \n",
      "1 1 1 \n",
      "2 2 2 \n",
      "3 3 3 \n"
     ]
    }
   ],
   "source": [
    "m,n=[int(x) for x in input(\"Enter m,n values\").split()]\n",
    "for i in range(m):\n",
    "    for j in range(n):\n",
    "        print(i,end=' ')\n",
    "    print()"
   ]
  },
  {
   "cell_type": "code",
   "execution_count": 14,
   "id": "c35f3dd3",
   "metadata": {},
   "outputs": [
    {
     "name": "stdout",
     "output_type": "stream",
     "text": [
      "Enter mxn values5x5\n",
      "0 0 0 0 0 \n",
      "1 1 1 1 1 \n",
      "2 2 2 2 2 \n",
      "3 3 3 3 3 \n",
      "4 4 4 4 4 \n"
     ]
    }
   ],
   "source": [
    "m,n=[int(x) for x in input(\"Enter mxn values\").split('x')]\n",
    "for i in range(m):\n",
    "    for j in range(n):\n",
    "        print(i,end=' ')\n",
    "    print()"
   ]
  },
  {
   "cell_type": "code",
   "execution_count": 15,
   "id": "cbcdbf27",
   "metadata": {},
   "outputs": [
    {
     "name": "stdout",
     "output_type": "stream",
     "text": [
      "Enter number of rows:3\n",
      "Enter number of columns:4\n",
      "0 0 0 0 \n",
      "1 1 1 1 \n",
      "2 2 2 2 \n"
     ]
    }
   ],
   "source": [
    "m=int(input(\"Enter number of rows:\"))\n",
    "n=int(input(\"Enter number of columns:\"))\n",
    "for i in range(m):\n",
    "    for j in range(n):\n",
    "        print(i,end=' ')\n",
    "    print()"
   ]
  },
  {
   "cell_type": "code",
   "execution_count": 16,
   "id": "6fd8d8de",
   "metadata": {},
   "outputs": [
    {
     "name": "stdout",
     "output_type": "stream",
     "text": [
      "Enter number of rows:3\n",
      "Enter number of columns:3\n",
      "1 1 1 \n",
      "2 2 2 \n",
      "3 3 3 \n"
     ]
    }
   ],
   "source": [
    "m=int(input(\"Enter number of rows:\"))\n",
    "n=int(input(\"Enter number of columns:\"))\n",
    "for i in range(1,m+1):\n",
    "    for j in range(n):\n",
    "        print(i,end=' ')\n",
    "    print()"
   ]
  },
  {
   "cell_type": "code",
   "execution_count": 18,
   "id": "487df2a9",
   "metadata": {},
   "outputs": [
    {
     "name": "stdout",
     "output_type": "stream",
     "text": [
      "Enter number of rows:3\n",
      "Enter number of columns:3\n",
      "1 1 \n",
      "2 2 \n"
     ]
    }
   ],
   "source": [
    "m=int(input(\"Enter number of rows:\"))\n",
    "n=int(input(\"Enter number of columns:\"))\n",
    "for i in range(1,m):\n",
    "    for j in range(1,n):\n",
    "        print(i,end=' ')\n",
    "    print()"
   ]
  },
  {
   "cell_type": "markdown",
   "id": "c9ee1474",
   "metadata": {},
   "source": [
    "# While loop"
   ]
  },
  {
   "cell_type": "code",
   "execution_count": 19,
   "id": "093e4ebc",
   "metadata": {},
   "outputs": [
    {
     "name": "stdout",
     "output_type": "stream",
     "text": [
      "1\n",
      "2\n",
      "3\n",
      "4\n"
     ]
    }
   ],
   "source": [
    "#program to print 1 to 4 using while\n",
    "i=1\n",
    "while i<=4:\n",
    "    print(i)\n",
    "    i=i+1"
   ]
  },
  {
   "cell_type": "code",
   "execution_count": 20,
   "id": "e6702fbd",
   "metadata": {},
   "outputs": [
    {
     "name": "stdout",
     "output_type": "stream",
     "text": [
      "5\n",
      "6\n",
      "7\n",
      "8\n",
      "9\n",
      "10\n",
      "11\n",
      "12\n",
      "13\n",
      "14\n"
     ]
    }
   ],
   "source": [
    "#program to print 5 to 14 using while\n",
    "i=5\n",
    "while i<=14:\n",
    "    print(i)\n",
    "    i=i+1"
   ]
  },
  {
   "cell_type": "code",
   "execution_count": 21,
   "id": "b16cab20",
   "metadata": {},
   "outputs": [
    {
     "name": "stdout",
     "output_type": "stream",
     "text": [
      "2\n",
      "4\n",
      "6\n",
      "8\n",
      "10\n",
      "12\n",
      "14\n",
      "16\n",
      "18\n",
      "20\n"
     ]
    }
   ],
   "source": [
    "#program to print even numbers between 1 to 20 using while\n",
    "i=1\n",
    "while i<=20:\n",
    "    if i%2==0:\n",
    "        print(i)\n",
    "    i=i+1"
   ]
  },
  {
   "cell_type": "code",
   "execution_count": 22,
   "id": "ab6ee77f",
   "metadata": {},
   "outputs": [
    {
     "name": "stdout",
     "output_type": "stream",
     "text": [
      "2\n",
      "4\n",
      "6\n",
      "8\n",
      "10\n",
      "12\n",
      "14\n",
      "16\n",
      "18\n",
      "20\n"
     ]
    }
   ],
   "source": [
    "#program to print even numbers between 1 to 20 using while\n",
    "i=2\n",
    "while i<=20:\n",
    "    print(i)\n",
    "    i=i+2"
   ]
  },
  {
   "cell_type": "code",
   "execution_count": 23,
   "id": "a39b8605",
   "metadata": {},
   "outputs": [
    {
     "name": "stdout",
     "output_type": "stream",
     "text": [
      "Enter starting value:7\n",
      "Enter Ending value:13\n",
      "8\n",
      "10\n",
      "12\n"
     ]
    }
   ],
   "source": [
    "#program to print even numbers between given range using while\n",
    "m=int(input(\"Enter starting value:\"))\n",
    "n=int(input(\"Enter Ending value:\"))\n",
    "i=m\n",
    "while i<=n:\n",
    "    if i%2==0:\n",
    "        print(i)\n",
    "    i=i+1"
   ]
  },
  {
   "cell_type": "code",
   "execution_count": 24,
   "id": "7ccea6e6",
   "metadata": {},
   "outputs": [
    {
     "name": "stdout",
     "output_type": "stream",
     "text": [
      "Enter starting value:3\n",
      "Enter Ending value:308\n",
      "Number of even numbers: 153\n"
     ]
    }
   ],
   "source": [
    "#program to print number of even numbers between given range using while\n",
    "m=int(input(\"Enter starting value:\"))\n",
    "n=int(input(\"Enter Ending value:\"))\n",
    "count=0\n",
    "i=m\n",
    "while i<=n:\n",
    "    if i%2==0:\n",
    "        count=count+1\n",
    "    i=i+1\n",
    "print(\"Number of even numbers:\",count)"
   ]
  },
  {
   "cell_type": "markdown",
   "id": "fd29dada",
   "metadata": {},
   "source": [
    "# else with loops"
   ]
  },
  {
   "cell_type": "code",
   "execution_count": 25,
   "id": "5674caae",
   "metadata": {},
   "outputs": [
    {
     "name": "stdout",
     "output_type": "stream",
     "text": [
      "0\n",
      "1\n",
      "2\n",
      "3\n",
      "4\n",
      "5\n",
      "6\n",
      "7\n",
      "8\n",
      "9\n",
      "Completed\n"
     ]
    }
   ],
   "source": [
    "#example program for else with for loop\n",
    "for i in range(10):\n",
    "    print(i)\n",
    "else:\n",
    "    print(\"Completed\")"
   ]
  },
  {
   "cell_type": "code",
   "execution_count": 26,
   "id": "a40f966f",
   "metadata": {},
   "outputs": [
    {
     "name": "stdout",
     "output_type": "stream",
     "text": [
      "0\n",
      "Completed\n",
      "1\n",
      "Completed\n",
      "2\n",
      "Completed\n",
      "3\n",
      "Completed\n",
      "4\n",
      "Completed\n",
      "5\n",
      "Completed\n",
      "6\n",
      "Completed\n",
      "7\n",
      "Completed\n",
      "8\n",
      "Completed\n",
      "9\n",
      "Completed\n"
     ]
    }
   ],
   "source": [
    "#example program for else with for loop\n",
    "for i in range(10):\n",
    "    print(i)\n",
    "    print(\"Completed\")"
   ]
  },
  {
   "cell_type": "code",
   "execution_count": 27,
   "id": "8c9bdb36",
   "metadata": {},
   "outputs": [
    {
     "name": "stdout",
     "output_type": "stream",
     "text": [
      "0\n",
      "1\n",
      "2\n",
      "3\n",
      "4\n",
      "5\n",
      "6\n",
      "7\n",
      "8\n",
      "9\n",
      "Completed\n"
     ]
    }
   ],
   "source": [
    "#example program for else with for loop\n",
    "for i in range(10):\n",
    "    print(i)\n",
    "print(\"Completed\")"
   ]
  },
  {
   "cell_type": "code",
   "execution_count": 29,
   "id": "73e658d9",
   "metadata": {},
   "outputs": [
    {
     "name": "stdout",
     "output_type": "stream",
     "text": [
      "5\n",
      "6\n",
      "7\n",
      "8\n",
      "9\n",
      "10\n",
      "11\n",
      "12\n",
      "13\n",
      "14\n",
      "15\n",
      "Completed\n"
     ]
    }
   ],
   "source": [
    "#example program for else with while loop\n",
    "i=5\n",
    "while i<=15:\n",
    "    print(i)\n",
    "    i=i+1\n",
    "else:\n",
    "    print(\"Completed\")"
   ]
  },
  {
   "cell_type": "markdown",
   "id": "870b16e3",
   "metadata": {},
   "source": [
    "# pass"
   ]
  },
  {
   "cell_type": "code",
   "execution_count": 30,
   "id": "64b31e2a",
   "metadata": {},
   "outputs": [
    {
     "ename": "SyntaxError",
     "evalue": "unexpected EOF while parsing (<ipython-input-30-e61162350cc4>, line 1)",
     "output_type": "error",
     "traceback": [
      "\u001b[1;36m  File \u001b[1;32m\"<ipython-input-30-e61162350cc4>\"\u001b[1;36m, line \u001b[1;32m1\u001b[0m\n\u001b[1;33m    for i in range(10):\u001b[0m\n\u001b[1;37m                       ^\u001b[0m\n\u001b[1;31mSyntaxError\u001b[0m\u001b[1;31m:\u001b[0m unexpected EOF while parsing\n"
     ]
    }
   ],
   "source": [
    "for i in range(10):"
   ]
  },
  {
   "cell_type": "code",
   "execution_count": 33,
   "id": "9904a8d5",
   "metadata": {},
   "outputs": [],
   "source": [
    "for i in range(10):\n",
    "    pass"
   ]
  },
  {
   "cell_type": "code",
   "execution_count": 34,
   "id": "98a7f32e",
   "metadata": {},
   "outputs": [
    {
     "name": "stdout",
     "output_type": "stream",
     "text": [
      "\n",
      "\n",
      "\n",
      "\n",
      "\n",
      "\n",
      "\n",
      "\n",
      "\n",
      "\n"
     ]
    }
   ],
   "source": [
    "for i in range(10):\n",
    "    print()"
   ]
  },
  {
   "cell_type": "code",
   "execution_count": 35,
   "id": "66f5b07a",
   "metadata": {},
   "outputs": [
    {
     "name": "stdout",
     "output_type": "stream",
     "text": [
      "0\n",
      "1\n",
      "2\n",
      "3\n",
      "4\n",
      "5\n",
      "6\n",
      "7\n"
     ]
    }
   ],
   "source": [
    "for i in range(10):\n",
    "    if i<=7:\n",
    "        print(i)\n",
    "    else:\n",
    "        break"
   ]
  },
  {
   "cell_type": "code",
   "execution_count": 42,
   "id": "647e8ad5",
   "metadata": {},
   "outputs": [
    {
     "name": "stdout",
     "output_type": "stream",
     "text": [
      "0\n",
      "1\n",
      "2\n",
      "3\n",
      "4\n",
      "5\n",
      "6\n",
      "7\n",
      "final i value is: 8\n"
     ]
    }
   ],
   "source": [
    "for i in range(20):\n",
    "    if i<=7:\n",
    "        print(i)\n",
    "    else:\n",
    "        break\n",
    "print(\"final i value is:\",i)"
   ]
  },
  {
   "cell_type": "code",
   "execution_count": 43,
   "id": "479b7527",
   "metadata": {},
   "outputs": [
    {
     "name": "stdout",
     "output_type": "stream",
     "text": [
      "0\n",
      "1\n",
      "2\n",
      "3\n",
      "4\n",
      "5\n",
      "6\n",
      "7\n",
      "final i value is: 19\n"
     ]
    }
   ],
   "source": [
    "for i in range(20):\n",
    "    if i<=7:\n",
    "        print(i)\n",
    "    else:\n",
    "        continue\n",
    "print(\"final i value is:\",i)"
   ]
  },
  {
   "cell_type": "code",
   "execution_count": null,
   "id": "09cba656",
   "metadata": {},
   "outputs": [],
   "source": []
  }
 ],
 "metadata": {
  "kernelspec": {
   "display_name": "Python 3",
   "language": "python",
   "name": "python3"
  },
  "language_info": {
   "codemirror_mode": {
    "name": "ipython",
    "version": 3
   },
   "file_extension": ".py",
   "mimetype": "text/x-python",
   "name": "python",
   "nbconvert_exporter": "python",
   "pygments_lexer": "ipython3",
   "version": "3.8.8"
  }
 },
 "nbformat": 4,
 "nbformat_minor": 5
}
